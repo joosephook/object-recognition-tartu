{
 "cells": [
  {
   "cell_type": "code",
   "execution_count": 1,
   "id": "a29d7974",
   "metadata": {},
   "outputs": [],
   "source": [
    "import pandas as pd\n",
    "import numpy as np\n",
    "import matplotlib.pyplot as plt\n",
    "import os.path\n",
    "\n",
    "import keras.backend as K\n",
    "import tensorflow as tf\n",
    "import tensorflow_addons as tfa\n",
    "from sklearn.model_selection import train_test_split\n",
    "from keras.layers import Input, Conv2D, Activation, Flatten, Dense, MaxPooling2D, BatchNormalization, Dropout\n",
    "from keras import regularizers, optimizers, Sequential\n",
    "from keras.preprocessing.image import ImageDataGenerator\n",
    "\n",
    "from tensorflow.keras.applications.inception_v3 import InceptionV3"
   ]
  },
  {
   "cell_type": "code",
   "execution_count": 2,
   "id": "a5145a50",
   "metadata": {},
   "outputs": [],
   "source": [
    "def load_train_images():\n",
    "    df = pd.read_csv('train.csv')\n",
    "    imgs = []\n",
    "    img_labels = []\n",
    "\n",
    "    for img_id, labels in zip(df.image_id.values, df.labels.values):",
    "        \n",
    "        try:\n",
    "            image = tf.keras.preprocessing.image.load_img(os.path.join('images', img_id),\n",
    "                    target_size=(300, 300),\n",
    "                    keep_aspect_ratio = True,\n",
    "                    color_mode = 'rgb')\n",
    "            input_arr = tf.keras.preprocessing.image.img_to_array(image)\n",
    "\n",
    "            image = np.expand_dims(input_arr, axis=0)\n",
    "            image = image/255\n",
    "            image = np.squeeze(image)\n",
    "            imgs.append(image)\n",
    "\n",
    "            label_int = list(map(int, labels.replace('l', '').split(' ')))\n",
    "            labels = np.zeros(92)\n",
    "            labels[label_int] = 1.0\n",
    "\n",
    "            img_labels.append(labels)\n",
    "            \n",
    "        except FileNotFoundError:\n",
    "            print(img_id, 'doesnt exist')\n",
    "\n",
    "    return np.array(imgs), img_labels"
   ]
  },
  {
   "cell_type": "code",
   "execution_count": 3,
   "id": "e6a565e9",
   "metadata": {},
   "outputs": [],
   "source": [
    "def load_test_images():\n",
    "    df = pd.read_csv('test.csv')\n",
    "    imgs = []\n",
    "\n",
    "    for img_id in df.image_id.values:\n",
    "        \n",
    "        try:\n",
    "            \n",
    "            image = tf.keras.preprocessing.image.load_img(os.path.join('images', img_id),\n",
    "                    target_size=(300, 300),\n",
    "                    keep_aspect_ratio = True,\n",
    "                    color_mode = 'rgb')\n",
    "            input_arr = tf.keras.preprocessing.image.img_to_array(image)\n",
    "            \n",
    "            image = np.expand_dims(input_arr, axis=0)\n",
    "            image = image/255\n",
    "            image = np.squeeze(image)\n",
    "\n",
    "            imgs.append(image)\n",
    "\n",
    "        except FileNotFoundError:\n",
    "            print(img_id, 'doesnt exist')\n",
    "\n",
    "    return np.array(imgs)"
   ]
  },
  {
   "cell_type": "code",
   "execution_count": 4,
   "id": "9152083f",
   "metadata": {},
   "outputs": [
    {
     "name": "stdout",
     "output_type": "stream",
     "text": [
      "img285.jpg doesnt exist\n",
      "img288.jpg doesnt exist\n",
      "img286.jpg doesnt exist\n",
      "img172.jpg doesnt exist\n",
      "img244.jpg doesnt exist\n",
      "img287.jpg doesnt exist\n"
     ]
    }
   ],
   "source": [
    "test_imgs = load_test_images()\n",
    "train_imgs, labels = load_train_images()"
   ]
  },
  {
   "cell_type": "code",
   "execution_count": 5,
   "id": "72de2093",
   "metadata": {},
   "outputs": [
    {
     "data": {
      "text/plain": [
       "((86, 300, 300, 3), (201, 300, 300, 3))"
      ]
     },
     "execution_count": 5,
     "metadata": {},
     "output_type": "execute_result"
    }
   ],
   "source": [
    "test_imgs.shape, train_imgs.shape"
   ]
  },
  {
   "cell_type": "code",
   "execution_count": 6,
   "id": "cc4ece16",
   "metadata": {},
   "outputs": [],
   "source": [
    "X_train, X_val, y_train, y_val = train_test_split(train_imgs, labels, random_state = 999, test_size = 0.10)"
   ]
  },
  {
   "cell_type": "code",
   "execution_count": 7,
   "id": "70a6e4b4",
   "metadata": {},
   "outputs": [],
   "source": [
    "datagen = ImageDataGenerator(\n",
    "    rotation_range = 15,\n",
    "    width_shift_range = 0.1,\n",
    "    height_shift_range = 0.1,\n",
    "    horizontal_flip = True,\n",
    "    shear_range = 0.2,\n",
    "    zoom_range = 0.2,\n",
    "    fill_mode = \"nearest\"\n",
    "    )\n",
    "\n",
    "datagen.fit(X_train)"
   ]
  },
  {
   "cell_type": "code",
   "execution_count": 8,
   "id": "0951ca8a",
   "metadata": {},
   "outputs": [],
   "source": [
    "def get_f1(y_true, y_pred): #https://aakashgoel12.medium.com/how-to-add-user-defined-function-get-f1-score-in-keras-metrics-3013f979ce0d\n",
    "    true_positives = K.sum(K.round(K.clip(y_true * y_pred, 0, 1)))\n",
    "    possible_positives = K.sum(K.round(K.clip(y_true, 0, 1)))\n",
    "    predicted_positives = K.sum(K.round(K.clip(y_pred, 0, 1)))\n",
    "    precision = true_positives / (predicted_positives + K.epsilon())\n",
    "    recall = true_positives / (possible_positives + K.epsilon())\n",
    "    f1_val = 2*(precision*recall)/(precision+recall+K.epsilon())\n",
    "    return f1_val"
   ]
  },
  {
   "cell_type": "code",
   "execution_count": 9,
   "id": "ce694d84",
   "metadata": {},
   "outputs": [],
   "source": [
    "# InceptionV3 model\n",
    "\n",
    "def run():\n",
    "    \n",
    "    inceptionv3_model = Sequential()\n",
    "\n",
    "    pre_trained_model= InceptionV3(include_top=False,\n",
    "                       input_shape = (300, 300, 3),\n",
    "                       pooling = 'avg',\n",
    "                       classes = 92,\n",
    "                       weights = 'imagenet')\n",
    "\n",
    "    for layer in pre_trained_model.layers:\n",
    "            layer.trainable=False\n",
    "\n",
    "    inceptionv3_model.add(pre_trained_model)\n",
    "    inceptionv3_model.add(Flatten())\n",
    "    inceptionv3_model.add(Dense(512, activation='relu'))\n",
    "\n",
    "    inceptionv3_model.add(Dropout(rate = 0.9))\n",
    "\n",
    "    inceptionv3_model.add(Dense(92, kernel_initializer= tf.keras.initializers.GlorotUniform(seed=999), activation='sigmoid'))\n",
    "\n",
    "    inceptionv3_model.compile(loss=tf.keras.losses.BinaryCrossentropy(),\n",
    "                          metrics=[tf.keras.metrics.BinaryAccuracy(),\n",
    "                                  get_f1], \n",
    "                          optimizer=optimizers.Adam(learning_rate=0.0001))\n",
    "\n",
    "    inceptionv3_model.summary()\n",
    "    return inceptionv3_model"
   ]
  },
  {
   "cell_type": "code",
   "execution_count": 10,
   "id": "b196cb0f",
   "metadata": {},
   "outputs": [
    {
     "name": "stdout",
     "output_type": "stream",
     "text": [
      "Model: \"sequential\"\n",
      "_________________________________________________________________\n",
      " Layer (type)                Output Shape              Param #   \n",
      "=================================================================\n",
      " inception_v3 (Functional)   (None, 2048)              21802784  \n",
      "                                                                 \n",
      " flatten (Flatten)           (None, 2048)              0         \n",
      "                                                                 \n",
      " dense (Dense)               (None, 512)               1049088   \n",
      "                                                                 \n",
      " dropout (Dropout)           (None, 512)               0         \n",
      "                                                                 \n",
      " dense_1 (Dense)             (None, 92)                47196     \n",
      "                                                                 \n",
      "=================================================================\n",
      "Total params: 22,899,068\n",
      "Trainable params: 1,096,284\n",
      "Non-trainable params: 21,802,784\n",
      "_________________________________________________________________\n",
      "Epoch 1/25\n",
      "2/2 [==============================] - 18s 7s/step - loss: 0.9843 - binary_accuracy: 0.5004 - get_f1: 0.0920 - val_loss: 0.7011 - val_binary_accuracy: 0.5238 - val_get_f1: 0.0873\n",
      "Epoch 2/25\n",
      "2/2 [==============================] - 11s 7s/step - loss: 0.9208 - binary_accuracy: 0.5161 - get_f1: 0.0823 - val_loss: 0.6553 - val_binary_accuracy: 0.6071 - val_get_f1: 0.0954\n",
      "Epoch 3/25\n",
      "2/2 [==============================] - 11s 6s/step - loss: 0.8389 - binary_accuracy: 0.5409 - get_f1: 0.0917 - val_loss: 0.6176 - val_binary_accuracy: 0.6858 - val_get_f1: 0.0927\n",
      "Epoch 4/25\n",
      "2/2 [==============================] - 12s 7s/step - loss: 0.7761 - binary_accuracy: 0.5632 - get_f1: 0.0902 - val_loss: 0.5872 - val_binary_accuracy: 0.7490 - val_get_f1: 0.0866\n",
      "Epoch 5/25\n",
      "2/2 [==============================] - 11s 7s/step - loss: 0.7508 - binary_accuracy: 0.5819 - get_f1: 0.0832 - val_loss: 0.5639 - val_binary_accuracy: 0.8043 - val_get_f1: 0.1000\n",
      "Epoch 6/25\n",
      "2/2 [==============================] - 11s 6s/step - loss: 0.7039 - binary_accuracy: 0.6082 - get_f1: 0.0977 - val_loss: 0.5453 - val_binary_accuracy: 0.8349 - val_get_f1: 0.1114\n",
      "Epoch 7/25\n",
      "2/2 [==============================] - 13s 8s/step - loss: 0.6831 - binary_accuracy: 0.6155 - get_f1: 0.0801 - val_loss: 0.5313 - val_binary_accuracy: 0.8602 - val_get_f1: 0.1176\n",
      "Epoch 8/25\n",
      "2/2 [==============================] - 12s 7s/step - loss: 0.6613 - binary_accuracy: 0.6310 - get_f1: 0.0990 - val_loss: 0.5196 - val_binary_accuracy: 0.8784 - val_get_f1: 0.1065\n",
      "Epoch 9/25\n",
      "2/2 [==============================] - 12s 6s/step - loss: 0.6553 - binary_accuracy: 0.6404 - get_f1: 0.0875 - val_loss: 0.5102 - val_binary_accuracy: 0.8872 - val_get_f1: 0.1066\n",
      "Epoch 10/25\n",
      "2/2 [==============================] - 13s 8s/step - loss: 0.6407 - binary_accuracy: 0.6552 - get_f1: 0.0831 - val_loss: 0.5020 - val_binary_accuracy: 0.8965 - val_get_f1: 0.1071\n",
      "Epoch 11/25\n",
      "2/2 [==============================] - 12s 8s/step - loss: 0.6382 - binary_accuracy: 0.6497 - get_f1: 0.0902 - val_loss: 0.4949 - val_binary_accuracy: 0.9032 - val_get_f1: 0.1137\n",
      "Epoch 12/25\n",
      "2/2 [==============================] - 12s 7s/step - loss: 0.6212 - binary_accuracy: 0.6689 - get_f1: 0.0961 - val_loss: 0.4885 - val_binary_accuracy: 0.9105 - val_get_f1: 0.1128\n",
      "Epoch 13/25\n",
      "2/2 [==============================] - 14s 8s/step - loss: 0.6246 - binary_accuracy: 0.6665 - get_f1: 0.1044 - val_loss: 0.4828 - val_binary_accuracy: 0.9161 - val_get_f1: 0.1196\n",
      "Epoch 14/25\n",
      "2/2 [==============================] - 12s 8s/step - loss: 0.6133 - binary_accuracy: 0.6656 - get_f1: 0.0906 - val_loss: 0.4768 - val_binary_accuracy: 0.9187 - val_get_f1: 0.1029\n",
      "Epoch 15/25\n",
      "2/2 [==============================] - 12s 7s/step - loss: 0.6130 - binary_accuracy: 0.6780 - get_f1: 0.0999 - val_loss: 0.4711 - val_binary_accuracy: 0.9249 - val_get_f1: 0.1317\n",
      "Epoch 16/25\n",
      "2/2 [==============================] - 13s 8s/step - loss: 0.6064 - binary_accuracy: 0.6750 - get_f1: 0.0882 - val_loss: 0.4657 - val_binary_accuracy: 0.9281 - val_get_f1: 0.1366\n",
      "Epoch 17/25\n",
      "2/2 [==============================] - 12s 8s/step - loss: 0.6059 - binary_accuracy: 0.6760 - get_f1: 0.0943 - val_loss: 0.4604 - val_binary_accuracy: 0.9317 - val_get_f1: 0.1429\n",
      "Epoch 18/25\n",
      "2/2 [==============================] - 12s 7s/step - loss: 0.5997 - binary_accuracy: 0.6785 - get_f1: 0.0975 - val_loss: 0.4548 - val_binary_accuracy: 0.9332 - val_get_f1: 0.1677\n",
      "Epoch 19/25\n",
      "2/2 [==============================] - 13s 8s/step - loss: 0.5866 - binary_accuracy: 0.6919 - get_f1: 0.0912 - val_loss: 0.4481 - val_binary_accuracy: 0.9332 - val_get_f1: 0.1224\n",
      "Epoch 20/25\n",
      "2/2 [==============================] - 12s 7s/step - loss: 0.5949 - binary_accuracy: 0.6913 - get_f1: 0.0969 - val_loss: 0.4415 - val_binary_accuracy: 0.9348 - val_get_f1: 0.0870\n",
      "Epoch 21/25\n",
      "2/2 [==============================] - 12s 7s/step - loss: 0.5782 - binary_accuracy: 0.6982 - get_f1: 0.0954 - val_loss: 0.4347 - val_binary_accuracy: 0.9384 - val_get_f1: 0.0775\n",
      "Epoch 22/25\n",
      "2/2 [==============================] - 13s 8s/step - loss: 0.5865 - binary_accuracy: 0.6900 - get_f1: 0.0916 - val_loss: 0.4275 - val_binary_accuracy: 0.9400 - val_get_f1: 0.0937\n",
      "Epoch 23/25\n",
      "2/2 [==============================] - 12s 8s/step - loss: 0.5815 - binary_accuracy: 0.7016 - get_f1: 0.0882 - val_loss: 0.4203 - val_binary_accuracy: 0.9410 - val_get_f1: 0.0806\n",
      "Epoch 24/25\n",
      "2/2 [==============================] - 13s 7s/step - loss: 0.5714 - binary_accuracy: 0.7025 - get_f1: 0.1005 - val_loss: 0.4128 - val_binary_accuracy: 0.9431 - val_get_f1: 0.0833\n",
      "Epoch 25/25\n",
      "2/2 [==============================] - 14s 8s/step - loss: 0.5642 - binary_accuracy: 0.7127 - get_f1: 0.0957 - val_loss: 0.4052 - val_binary_accuracy: 0.9446 - val_get_f1: 0.0855\n"
     ]
    }
   ],
   "source": [
    "history_wo = run().fit(X_train, np.array(y_train), batch_size=64,\n",
    "                        steps_per_epoch=X_train.shape[0]//64,\n",
    "                        epochs=25,\n",
    "                        verbose=1,\n",
    "                        validation_data=(X_val, np.array(y_val)))"
   ]
  },
  {
   "cell_type": "code",
   "execution_count": 11,
   "id": "243b78dc",
   "metadata": {},
   "outputs": [
    {
     "name": "stdout",
     "output_type": "stream",
     "text": [
      "Model: \"sequential_1\"\n",
      "_________________________________________________________________\n",
      " Layer (type)                Output Shape              Param #   \n",
      "=================================================================\n",
      " inception_v3 (Functional)   (None, 2048)              21802784  \n",
      "                                                                 \n",
      " flatten_1 (Flatten)         (None, 2048)              0         \n",
      "                                                                 \n",
      " dense_2 (Dense)             (None, 512)               1049088   \n",
      "                                                                 \n",
      " dropout_1 (Dropout)         (None, 512)               0         \n",
      "                                                                 \n",
      " dense_3 (Dense)             (None, 92)                47196     \n",
      "                                                                 \n",
      "=================================================================\n",
      "Total params: 22,899,068\n",
      "Trainable params: 1,096,284\n",
      "Non-trainable params: 21,802,784\n",
      "_________________________________________________________________\n",
      "Epoch 1/25\n",
      "2/2 [==============================] - 23s 9s/step - loss: 0.9605 - binary_accuracy: 0.5060 - get_f1: 0.0894 - val_loss: 0.6727 - val_binary_accuracy: 0.5735 - val_get_f1: 0.0636\n",
      "Epoch 2/25\n",
      "2/2 [==============================] - 15s 8s/step - loss: 0.8692 - binary_accuracy: 0.5310 - get_f1: 0.0812 - val_loss: 0.6330 - val_binary_accuracy: 0.6579 - val_get_f1: 0.0781\n",
      "Epoch 3/25\n",
      "2/2 [==============================] - 15s 8s/step - loss: 0.7954 - binary_accuracy: 0.5504 - get_f1: 0.0801 - val_loss: 0.6024 - val_binary_accuracy: 0.7262 - val_get_f1: 0.0864\n",
      "Epoch 4/25\n",
      "2/2 [==============================] - 14s 8s/step - loss: 0.7474 - binary_accuracy: 0.5707 - get_f1: 0.0792 - val_loss: 0.5786 - val_binary_accuracy: 0.7780 - val_get_f1: 0.0814\n",
      "Epoch 5/25\n",
      "2/2 [==============================] - 16s 8s/step - loss: 0.7177 - binary_accuracy: 0.5937 - get_f1: 0.0805 - val_loss: 0.5599 - val_binary_accuracy: 0.8131 - val_get_f1: 0.0861\n",
      "Epoch 6/25\n",
      "2/2 [==============================] - 14s 7s/step - loss: 0.6871 - binary_accuracy: 0.6147 - get_f1: 0.0926 - val_loss: 0.5446 - val_binary_accuracy: 0.8380 - val_get_f1: 0.0875\n",
      "Epoch 7/25\n",
      "2/2 [==============================] - 15s 7s/step - loss: 0.6746 - binary_accuracy: 0.6234 - get_f1: 0.0890 - val_loss: 0.5323 - val_binary_accuracy: 0.8587 - val_get_f1: 0.0930\n",
      "Epoch 8/25\n",
      "2/2 [==============================] - 14s 8s/step - loss: 0.6554 - binary_accuracy: 0.6356 - get_f1: 0.0972 - val_loss: 0.5227 - val_binary_accuracy: 0.8716 - val_get_f1: 0.0949\n",
      "Epoch 9/25\n",
      "2/2 [==============================] - 14s 8s/step - loss: 0.6506 - binary_accuracy: 0.6426 - get_f1: 0.0857 - val_loss: 0.5144 - val_binary_accuracy: 0.8799 - val_get_f1: 0.0937\n",
      "Epoch 10/25\n",
      "2/2 [==============================] - 14s 8s/step - loss: 0.6424 - binary_accuracy: 0.6426 - get_f1: 0.0848 - val_loss: 0.5072 - val_binary_accuracy: 0.8877 - val_get_f1: 0.0921\n",
      "Epoch 11/25\n",
      "2/2 [==============================] - 15s 9s/step - loss: 0.6368 - binary_accuracy: 0.6480 - get_f1: 0.0876 - val_loss: 0.5011 - val_binary_accuracy: 0.8986 - val_get_f1: 0.1009\n",
      "Epoch 12/25\n",
      "2/2 [==============================] - 16s 8s/step - loss: 0.6298 - binary_accuracy: 0.6567 - get_f1: 0.0852 - val_loss: 0.4956 - val_binary_accuracy: 0.9048 - val_get_f1: 0.1068\n",
      "Epoch 13/25\n",
      "2/2 [==============================] - 18s 9s/step - loss: 0.6220 - binary_accuracy: 0.6659 - get_f1: 0.0933 - val_loss: 0.4901 - val_binary_accuracy: 0.9073 - val_get_f1: 0.1005\n",
      "Epoch 14/25\n",
      "2/2 [==============================] - 15s 8s/step - loss: 0.6119 - binary_accuracy: 0.6701 - get_f1: 0.0899 - val_loss: 0.4839 - val_binary_accuracy: 0.9120 - val_get_f1: 0.0957\n",
      "Epoch 15/25\n",
      "2/2 [==============================] - 14s 8s/step - loss: 0.6177 - binary_accuracy: 0.6674 - get_f1: 0.0834 - val_loss: 0.4778 - val_binary_accuracy: 0.9177 - val_get_f1: 0.1017\n",
      "Epoch 16/25\n",
      "2/2 [==============================] - 14s 8s/step - loss: 0.6112 - binary_accuracy: 0.6718 - get_f1: 0.0866 - val_loss: 0.4716 - val_binary_accuracy: 0.9203 - val_get_f1: 0.1047\n",
      "Epoch 17/25\n",
      "2/2 [==============================] - 15s 9s/step - loss: 0.6105 - binary_accuracy: 0.6760 - get_f1: 0.0808 - val_loss: 0.4652 - val_binary_accuracy: 0.9249 - val_get_f1: 0.1212\n",
      "Epoch 18/25\n",
      "2/2 [==============================] - 16s 8s/step - loss: 0.5958 - binary_accuracy: 0.6840 - get_f1: 0.0833 - val_loss: 0.4588 - val_binary_accuracy: 0.9275 - val_get_f1: 0.1026\n",
      "Epoch 19/25\n",
      "2/2 [==============================] - 14s 7s/step - loss: 0.5932 - binary_accuracy: 0.6893 - get_f1: 0.0943 - val_loss: 0.4516 - val_binary_accuracy: 0.9301 - val_get_f1: 0.1060\n",
      "Epoch 20/25\n",
      "2/2 [==============================] - 14s 7s/step - loss: 0.5967 - binary_accuracy: 0.6870 - get_f1: 0.0856 - val_loss: 0.4440 - val_binary_accuracy: 0.9317 - val_get_f1: 0.0959\n",
      "Epoch 21/25\n",
      "2/2 [==============================] - 14s 8s/step - loss: 0.5868 - binary_accuracy: 0.6966 - get_f1: 0.0840 - val_loss: 0.4355 - val_binary_accuracy: 0.9322 - val_get_f1: 0.0839\n",
      "Epoch 22/25\n",
      "2/2 [==============================] - 15s 8s/step - loss: 0.5818 - binary_accuracy: 0.7016 - get_f1: 0.0976 - val_loss: 0.4276 - val_binary_accuracy: 0.9358 - val_get_f1: 0.1014\n",
      "Epoch 23/25\n",
      "2/2 [==============================] - 15s 9s/step - loss: 0.5837 - binary_accuracy: 0.6967 - get_f1: 0.0940 - val_loss: 0.4198 - val_binary_accuracy: 0.9384 - val_get_f1: 0.0916\n",
      "Epoch 24/25\n",
      "2/2 [==============================] - 16s 8s/step - loss: 0.5774 - binary_accuracy: 0.7086 - get_f1: 0.0897 - val_loss: 0.4123 - val_binary_accuracy: 0.9410 - val_get_f1: 0.0806\n",
      "Epoch 25/25\n",
      "2/2 [==============================] - 14s 7s/step - loss: 0.5667 - binary_accuracy: 0.7114 - get_f1: 0.0908 - val_loss: 0.4046 - val_binary_accuracy: 0.9436 - val_get_f1: 0.0840\n"
     ]
    }
   ],
   "source": [
    "history_w = run().fit(datagen.flow(X_train, np.array(y_train), batch_size=64),\n",
    "                        steps_per_epoch=X_train.shape[0]//64,\n",
    "                        epochs=25,\n",
    "                        verbose=1,\n",
    "                        validation_data=(X_val, np.array(y_val)))"
   ]
  },
  {
   "cell_type": "code",
   "execution_count": 12,
   "id": "90d1aecb",
   "metadata": {},
   "outputs": [
    {
     "data": {
      "text/plain": [
       "<matplotlib.legend.Legend at 0x183230b3ac0>"
      ]
     },
     "execution_count": 12,
     "metadata": {},
     "output_type": "execute_result"
    },
    {
     "data": {
      "image/png": "[encoded data removed]",
      "text/plain": [
       "<Figure size 432x288 with 1 Axes>"
      ]
     },
     "metadata": {
      "needs_background": "light"
     },
     "output_type": "display_data"
    }
   ],
   "source": [
    "plt.subplot()\n",
    "plt.plot(history_wo.history['loss'])\n",
    "plt.plot(history_wo.history['val_loss'])\n",
    "plt.xlabel('Epoch')\n",
    "plt.ylabel('Loss')\n",
    "plt.legend(['Training', 'Validation'])"
   ]
  },
  {
   "cell_type": "code",
   "execution_count": 13,
   "id": "82db679d",
   "metadata": {},
   "outputs": [
    {
     "data": {
      "text/plain": [
       "<matplotlib.legend.Legend at 0x18323138c40>"
      ]
     },
     "execution_count": 13,
     "metadata": {},
     "output_type": "execute_result"
    },
    {
     "data": {
      "image/png": "[encoded data removed]",
      "text/plain": [
       "<Figure size 432x288 with 1 Axes>"
      ]
     },
     "metadata": {
      "needs_background": "light"
     },
     "output_type": "display_data"
    }
   ],
   "source": [
    "plt.subplot()\n",
    "plt.plot(history_w.history['loss'])\n",
    "plt.plot(history_w.history['val_loss'])\n",
    "plt.xlabel('Epoch')\n",
    "plt.ylabel('Loss')\n",
    "plt.legend(['Training', 'Validation'])"
   ]
  },
  {
   "cell_type": "code",
   "execution_count": 14,
   "id": "a2754007",
   "metadata": {},
   "outputs": [
    {
     "data": {
      "text/plain": [
       "<matplotlib.legend.Legend at 0x1832319e2b0>"
      ]
     },
     "execution_count": 14,
     "metadata": {},
     "output_type": "execute_result"
    },
    {
     "data": {
      "image/png": "[encoded data removed]",
      "text/plain": [
       "<Figure size 432x288 with 1 Axes>"
      ]
     },
     "metadata": {
      "needs_background": "light"
     },
     "output_type": "display_data"
    }
   ],
   "source": [
    "plt.subplot()\n",
    "plt.plot(history_wo.history['get_f1'])\n",
    "plt.plot(history_wo.history['val_get_f1'])\n",
    "plt.xlabel('Epoch')\n",
    "plt.ylabel('f1_score')\n",
    "plt.legend(['Training', 'Validation'])"
   ]
  },
  {
   "cell_type": "code",
   "execution_count": 15,
   "id": "3b55404a",
   "metadata": {},
   "outputs": [
    {
     "data": {
      "text/plain": [
       "<matplotlib.legend.Legend at 0x183238430a0>"
      ]
     },
     "execution_count": 15,
     "metadata": {},
     "output_type": "execute_result"
    },
    {
     "data": {
      "image/png": "[encoded data removed]",
      "text/plain": [
       "<Figure size 432x288 with 1 Axes>"
      ]
     },
     "metadata": {
      "needs_background": "light"
     },
     "output_type": "display_data"
    }
   ],
   "source": [
    "plt.subplot()\n",
    "plt.plot(history_w.history['get_f1'])\n",
    "plt.plot(history_w.history['val_get_f1'])\n",
    "plt.xlabel('Epoch')\n",
    "plt.ylabel('f1_score')\n",
    "plt.legend(['Training', 'Validation'])"
   ]
  }
 ],
 "metadata": {
  "kernelspec": {
   "display_name": "Python 3 (ipykernel)",
   "language": "python",
   "name": "python3"
  },
  "language_info": {
   "codemirror_mode": {
    "name": "ipython",
    "version": 3
   },
   "file_extension": ".py",
   "mimetype": "text/x-python",
   "name": "python",
   "nbconvert_exporter": "python",
   "pygments_lexer": "ipython3",
   "version": "3.9.12"
  }
 },
 "nbformat": 4,
 "nbformat_minor": 5
}
