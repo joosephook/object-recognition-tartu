{
 "cells": [
  {
   "cell_type": "code",
   "execution_count": 25,
   "metadata": {},
   "outputs": [],
   "source": [
    "import random_clip_forest\n",
    "import torch\n",
    "\n",
    "import numpy as np\n",
    "import pandas as pd\n",
    "from sklearn.linear_model import LogisticRegression\n",
    "from xgboost.sklearn import XGBClassifier\n",
    "from sklearn.svm import SVC\n",
    "from sklearn.ensemble import RandomForestClassifier, VotingClassifier\n",
    "from sklearn.multioutput import MultiOutputClassifier\n",
    "from sklearn.calibration import CalibratedClassifierCV\n",
    "import torchvision.transforms.functional as fn\n",
    "from torchvision.transforms import RandomAffine\n",
    "from sklearn.preprocessing import StandardScaler\n",
    "from keras.preprocessing.image import ImageDataGenerator\n",
    "from sklearn.metrics import f1_score\n"
   ]
  },
  {
   "cell_type": "code",
   "execution_count": 26,
   "metadata": {},
   "outputs": [],
   "source": [
    "from transformers import BeitFeatureExtractor, BeitForImageClassification\n",
    "from PIL import Image"
   ]
  },
  {
   "cell_type": "code",
   "execution_count": 27,
   "metadata": {},
   "outputs": [],
   "source": [
    "feature_extractor = BeitFeatureExtractor.from_pretrained('microsoft/beit-base-patch16-224-pt22k-ft22k')\n",
    "model = BeitForImageClassification.from_pretrained('microsoft/beit-base-patch16-224-pt22k-ft22k')"
   ]
  },
  {
   "cell_type": "code",
   "execution_count": 28,
   "metadata": {},
   "outputs": [],
   "source": [
    "# read in images\n",
    "df = pd.read_csv('train.csv')\n",
    "# throw away missing images\n",
    "df = df.loc[df.image_id.apply(random_clip_forest.img_exists)]\n",
    "df['Images'] = df['image_id'].apply(random_clip_forest.open_img_id)\n",
    "\n",
    "df2 = df.copy()\n",
    "df2['Images'] = df['Images'].apply(fn.hflip)\n",
    "\n",
    "df3 = df.copy()\n",
    "df3['Images'] = [fn.gaussian_blur(img=image,kernel_size=(9,9)) for image in df['Images']]\n",
    "\n",
    "df = pd.concat([df, df2, df3])\n",
    "\n",
    "labelsdf = pd.read_csv('labels.csv')\n",
    "labels = labelsdf['object'].values.tolist()"
   ]
  },
  {
   "cell_type": "code",
   "execution_count": 29,
   "metadata": {},
   "outputs": [],
   "source": [
    "y_train = np.array([\n",
    "    random_clip_forest.onehot(lbl) for lbl in df['labels']\n",
    "]).astype(int)"
   ]
  },
  {
   "cell_type": "code",
   "execution_count": 30,
   "metadata": {},
   "outputs": [],
   "source": [
    "inputs = feature_extractor(images=df['Images'].tolist(), return_tensors=\"pt\")\n"
   ]
  },
  {
   "cell_type": "code",
   "execution_count": 31,
   "metadata": {},
   "outputs": [],
   "source": [
    "with torch.no_grad():\n",
    "    outputs = model(**inputs)"
   ]
  },
  {
   "cell_type": "code",
   "execution_count": 40,
   "metadata": {},
   "outputs": [],
   "source": [
    "X_train = outputs['logits']"
   ]
  },
  {
   "cell_type": "code",
   "execution_count": 33,
   "metadata": {},
   "outputs": [],
   "source": [
    "xgboost_model = XGBClassifier(scale_pos_weight=90, max_delta_step=7)\n",
    "final = MultiOutputClassifier(xgboost_model)"
   ]
  },
  {
   "cell_type": "code",
   "execution_count": 41,
   "metadata": {},
   "outputs": [
    {
     "data": {
      "text/html": [
       "<style>#sk-container-id-1 {color: black;background-color: white;}#sk-container-id-1 pre{padding: 0;}#sk-container-id-1 div.sk-toggleable {background-color: white;}#sk-container-id-1 label.sk-toggleable__label {cursor: pointer;display: block;width: 100%;margin-bottom: 0;padding: 0.3em;box-sizing: border-box;text-align: center;}#sk-container-id-1 label.sk-toggleable__label-arrow:before {content: \"▸\";float: left;margin-right: 0.25em;color: #696969;}#sk-container-id-1 label.sk-toggleable__label-arrow:hover:before {color: black;}#sk-container-id-1 div.sk-estimator:hover label.sk-toggleable__label-arrow:before {color: black;}#sk-container-id-1 div.sk-toggleable__content {max-height: 0;max-width: 0;overflow: hidden;text-align: left;background-color: #f0f8ff;}#sk-container-id-1 div.sk-toggleable__content pre {margin: 0.2em;color: black;border-radius: 0.25em;background-color: #f0f8ff;}#sk-container-id-1 input.sk-toggleable__control:checked~div.sk-toggleable__content {max-height: 200px;max-width: 100%;overflow: auto;}#sk-container-id-1 input.sk-toggleable__control:checked~label.sk-toggleable__label-arrow:before {content: \"▾\";}#sk-container-id-1 div.sk-estimator input.sk-toggleable__control:checked~label.sk-toggleable__label {background-color: #d4ebff;}#sk-container-id-1 div.sk-label input.sk-toggleable__control:checked~label.sk-toggleable__label {background-color: #d4ebff;}#sk-container-id-1 input.sk-hidden--visually {border: 0;clip: rect(1px 1px 1px 1px);clip: rect(1px, 1px, 1px, 1px);height: 1px;margin: -1px;overflow: hidden;padding: 0;position: absolute;width: 1px;}#sk-container-id-1 div.sk-estimator {font-family: monospace;background-color: #f0f8ff;border: 1px dotted black;border-radius: 0.25em;box-sizing: border-box;margin-bottom: 0.5em;}#sk-container-id-1 div.sk-estimator:hover {background-color: #d4ebff;}#sk-container-id-1 div.sk-parallel-item::after {content: \"\";width: 100%;border-bottom: 1px solid gray;flex-grow: 1;}#sk-container-id-1 div.sk-label:hover label.sk-toggleable__label {background-color: #d4ebff;}#sk-container-id-1 div.sk-serial::before {content: \"\";position: absolute;border-left: 1px solid gray;box-sizing: border-box;top: 0;bottom: 0;left: 50%;z-index: 0;}#sk-container-id-1 div.sk-serial {display: flex;flex-direction: column;align-items: center;background-color: white;padding-right: 0.2em;padding-left: 0.2em;position: relative;}#sk-container-id-1 div.sk-item {position: relative;z-index: 1;}#sk-container-id-1 div.sk-parallel {display: flex;align-items: stretch;justify-content: center;background-color: white;position: relative;}#sk-container-id-1 div.sk-item::before, #sk-container-id-1 div.sk-parallel-item::before {content: \"\";position: absolute;border-left: 1px solid gray;box-sizing: border-box;top: 0;bottom: 0;left: 50%;z-index: -1;}#sk-container-id-1 div.sk-parallel-item {display: flex;flex-direction: column;z-index: 1;position: relative;background-color: white;}#sk-container-id-1 div.sk-parallel-item:first-child::after {align-self: flex-end;width: 50%;}#sk-container-id-1 div.sk-parallel-item:last-child::after {align-self: flex-start;width: 50%;}#sk-container-id-1 div.sk-parallel-item:only-child::after {width: 0;}#sk-container-id-1 div.sk-dashed-wrapped {border: 1px dashed gray;margin: 0 0.4em 0.5em 0.4em;box-sizing: border-box;padding-bottom: 0.4em;background-color: white;}#sk-container-id-1 div.sk-label label {font-family: monospace;font-weight: bold;display: inline-block;line-height: 1.2em;}#sk-container-id-1 div.sk-label-container {text-align: center;}#sk-container-id-1 div.sk-container {/* jupyter's `normalize.less` sets `[hidden] { display: none; }` but bootstrap.min.css set `[hidden] { display: none !important; }` so we also need the `!important` here to be able to override the default hidden behavior on the sphinx rendered scikit-learn.org. See: https://github.com/scikit-learn/scikit-learn/issues/21755 */display: inline-block !important;position: relative;}#sk-container-id-1 div.sk-text-repr-fallback {display: none;}</style><div id=\"sk-container-id-1\" class=\"sk-top-container\"><div class=\"sk-text-repr-fallback\"><pre>MultiOutputClassifier(estimator=XGBClassifier(base_score=None, booster=None,\n",
       "                                              callbacks=None,\n",
       "                                              colsample_bylevel=None,\n",
       "                                              colsample_bynode=None,\n",
       "                                              colsample_bytree=None,\n",
       "                                              early_stopping_rounds=None,\n",
       "                                              enable_categorical=False,\n",
       "                                              eval_metric=None,\n",
       "                                              feature_types=None, gamma=None,\n",
       "                                              gpu_id=None, grow_policy=None,\n",
       "                                              importance_type=None,\n",
       "                                              interaction_constraints=None,\n",
       "                                              learning_rate=None, max_bin=None,\n",
       "                                              max_cat_threshold=None,\n",
       "                                              max_cat_to_onehot=None,\n",
       "                                              max_delta_step=7, max_depth=None,\n",
       "                                              max_leaves=None,\n",
       "                                              min_child_weight=None,\n",
       "                                              missing=nan,\n",
       "                                              monotone_constraints=None,\n",
       "                                              n_estimators=100, n_jobs=None,\n",
       "                                              num_parallel_tree=None,\n",
       "                                              predictor=None, random_state=None, ...))</pre><b>In a Jupyter environment, please rerun this cell to show the HTML representation or trust the notebook. <br />On GitHub, the HTML representation is unable to render, please try loading this page with nbviewer.org.</b></div><div class=\"sk-container\" hidden><div class=\"sk-item sk-dashed-wrapped\"><div class=\"sk-label-container\"><div class=\"sk-label sk-toggleable\"><input class=\"sk-toggleable__control sk-hidden--visually\" id=\"sk-estimator-id-1\" type=\"checkbox\" ><label for=\"sk-estimator-id-1\" class=\"sk-toggleable__label sk-toggleable__label-arrow\">MultiOutputClassifier</label><div class=\"sk-toggleable__content\"><pre>MultiOutputClassifier(estimator=XGBClassifier(base_score=None, booster=None,\n",
       "                                              callbacks=None,\n",
       "                                              colsample_bylevel=None,\n",
       "                                              colsample_bynode=None,\n",
       "                                              colsample_bytree=None,\n",
       "                                              early_stopping_rounds=None,\n",
       "                                              enable_categorical=False,\n",
       "                                              eval_metric=None,\n",
       "                                              feature_types=None, gamma=None,\n",
       "                                              gpu_id=None, grow_policy=None,\n",
       "                                              importance_type=None,\n",
       "                                              interaction_constraints=None,\n",
       "                                              learning_rate=None, max_bin=None,\n",
       "                                              max_cat_threshold=None,\n",
       "                                              max_cat_to_onehot=None,\n",
       "                                              max_delta_step=7, max_depth=None,\n",
       "                                              max_leaves=None,\n",
       "                                              min_child_weight=None,\n",
       "                                              missing=nan,\n",
       "                                              monotone_constraints=None,\n",
       "                                              n_estimators=100, n_jobs=None,\n",
       "                                              num_parallel_tree=None,\n",
       "                                              predictor=None, random_state=None, ...))</pre></div></div></div><div class=\"sk-parallel\"><div class=\"sk-parallel-item\"><div class=\"sk-item\"><div class=\"sk-label-container\"><div class=\"sk-label sk-toggleable\"><input class=\"sk-toggleable__control sk-hidden--visually\" id=\"sk-estimator-id-2\" type=\"checkbox\" ><label for=\"sk-estimator-id-2\" class=\"sk-toggleable__label sk-toggleable__label-arrow\">estimator: XGBClassifier</label><div class=\"sk-toggleable__content\"><pre>XGBClassifier(base_score=None, booster=None, callbacks=None,\n",
       "              colsample_bylevel=None, colsample_bynode=None,\n",
       "              colsample_bytree=None, early_stopping_rounds=None,\n",
       "              enable_categorical=False, eval_metric=None, feature_types=None,\n",
       "              gamma=None, gpu_id=None, grow_policy=None, importance_type=None,\n",
       "              interaction_constraints=None, learning_rate=None, max_bin=None,\n",
       "              max_cat_threshold=None, max_cat_to_onehot=None, max_delta_step=7,\n",
       "              max_depth=None, max_leaves=None, min_child_weight=None,\n",
       "              missing=nan, monotone_constraints=None, n_estimators=100,\n",
       "              n_jobs=None, num_parallel_tree=None, predictor=None,\n",
       "              random_state=None, ...)</pre></div></div></div><div class=\"sk-serial\"><div class=\"sk-item\"><div class=\"sk-estimator sk-toggleable\"><input class=\"sk-toggleable__control sk-hidden--visually\" id=\"sk-estimator-id-3\" type=\"checkbox\" ><label for=\"sk-estimator-id-3\" class=\"sk-toggleable__label sk-toggleable__label-arrow\">XGBClassifier</label><div class=\"sk-toggleable__content\"><pre>XGBClassifier(base_score=None, booster=None, callbacks=None,\n",
       "              colsample_bylevel=None, colsample_bynode=None,\n",
       "              colsample_bytree=None, early_stopping_rounds=None,\n",
       "              enable_categorical=False, eval_metric=None, feature_types=None,\n",
       "              gamma=None, gpu_id=None, grow_policy=None, importance_type=None,\n",
       "              interaction_constraints=None, learning_rate=None, max_bin=None,\n",
       "              max_cat_threshold=None, max_cat_to_onehot=None, max_delta_step=7,\n",
       "              max_depth=None, max_leaves=None, min_child_weight=None,\n",
       "              missing=nan, monotone_constraints=None, n_estimators=100,\n",
       "              n_jobs=None, num_parallel_tree=None, predictor=None,\n",
       "              random_state=None, ...)</pre></div></div></div></div></div></div></div></div></div></div>"
      ],
      "text/plain": [
       "MultiOutputClassifier(estimator=XGBClassifier(base_score=None, booster=None,\n",
       "                                              callbacks=None,\n",
       "                                              colsample_bylevel=None,\n",
       "                                              colsample_bynode=None,\n",
       "                                              colsample_bytree=None,\n",
       "                                              early_stopping_rounds=None,\n",
       "                                              enable_categorical=False,\n",
       "                                              eval_metric=None,\n",
       "                                              feature_types=None, gamma=None,\n",
       "                                              gpu_id=None, grow_policy=None,\n",
       "                                              importance_type=None,\n",
       "                                              interaction_constraints=None,\n",
       "                                              learning_rate=None, max_bin=None,\n",
       "                                              max_cat_threshold=None,\n",
       "                                              max_cat_to_onehot=None,\n",
       "                                              max_delta_step=7, max_depth=None,\n",
       "                                              max_leaves=None,\n",
       "                                              min_child_weight=None,\n",
       "                                              missing=nan,\n",
       "                                              monotone_constraints=None,\n",
       "                                              n_estimators=100, n_jobs=None,\n",
       "                                              num_parallel_tree=None,\n",
       "                                              predictor=None, random_state=None, ...))"
      ]
     },
     "execution_count": 41,
     "metadata": {},
     "output_type": "execute_result"
    }
   ],
   "source": [
    "final.fit(X_train, y_train)"
   ]
  },
  {
   "cell_type": "code",
   "execution_count": 42,
   "metadata": {},
   "outputs": [
    {
     "name": "stdout",
     "output_type": "stream",
     "text": [
      "img102.jpg\tpeople trees buildings town hall of tartu flags drone photography\n",
      "img103.jpg\ttrees grass\n",
      "img11.jpg\tpeople snow\n",
      "img113.jpg\tplants\n",
      "img114.jpg\thands\n",
      "img121.jpg\tpeople trees grass water playground lamp post\n",
      "img126.jpg\tpeople trees water playground\n",
      "img131.jpg\tperson\n",
      "img136.jpg\ttrees\n",
      "img137.jpg\ttrees park\n",
      "img139.jpg\ttrees grass\n",
      "img140.jpg\tpeople trees sand\n",
      "img15.jpg\ttrees grass bench green garbage can pole\n",
      "img150.jpg\tbuilding traffic signs\n",
      "img151.jpg\tpeople trees buildings road\n",
      "img152.jpg\tpeople buildings road traffic signs\n",
      "img156.jpg\tpeople trees grass building buildings road bicycle traffic signs\n",
      "img161.jpg\tpeople trees water barge emajõe-peipsi barge jõmmu\n",
      "img166.jpg\tpeople trees grass road person pavement\n",
      "img167.jpg\ttrees\n",
      "img170.jpg\tpeople trees building stone road table\n",
      "img173.jpg\ttrees snow\n",
      "img176.jpg\tpeople snow\n",
      "img18.jpg\ttrees grass building green garbage can\n",
      "img180.jpg\tpeople trees table\n",
      "img181.jpg\tpeople trees grass road nature plants\n",
      "img182.jpg\tpeople trees building\n",
      "img183.jpg\ttrees bridge yellow leaves\n",
      "img189.jpg\tpeople trees water boat\n",
      "img192.jpg\tpeople trees building bicycle children child\n",
      "img194.jpg\tpeople trees grass building buildings sand bench\n",
      "img195.jpg\tpeople grass building bench playground flags\n",
      "img206.jpg\tpeople trees grass water\n",
      "img208.jpg\tcar\n",
      "img209.jpg\tpeople trees yellow leaves park\n",
      "img211.jpg\tpeople trees grass lamp posts town hall of tartu\n",
      "img212.jpg\ttrees grass table\n",
      "img218.jpg\tperson bench leaves man book\n",
      "img22.jpg\ttrees grass stairs stone road stair railings\n",
      "img221.jpg\tpeople water\n",
      "img228.jpg\ttrees snow traffic sign winter street tractor snow plow\n",
      "img230.jpg\ttrees building snow winter street tractor snow plow\n",
      "img231.jpg\tpeople snow tractor snow plow\n",
      "img234.jpg\ttrees building snow\n",
      "img238.jpg\tpeople\n",
      "img243.jpg\tpeople trees grass buildings water road\n",
      "img247.jpg\tpeople trees grass buildings water road nature\n",
      "img248.jpg\tgraffiti wall\n",
      "img249.jpg\tgrass graffiti wall\n",
      "img250.jpg\troad traffic sign wall\n",
      "img251.jpg\tbicycle\n",
      "img252.jpg\tbicycle graffiti wall\n",
      "img257.jpg\ttrees grass yellow leaves\n",
      "img259.jpg\tsnow person\n",
      "img262.jpg\ttrees\n",
      "img265.jpg\ttrees\n",
      "img266.jpg\ttrees buildings cars\n",
      "img279.jpg\tpeople water barge emajõe-peipsi barge jõmmu stroller\n",
      "img280.jpg\tpeople buildings\n",
      "img281.jpg\tpeople building town hall of tartu\n",
      "img285.jpg missing, defaulting to l0\n",
      "img288.jpg missing, defaulting to l0\n",
      "img292.jpg\tpeople trees building table\n",
      "img296.jpg\tpeople building town hall of tartu the sculpture of kissing students fountain\n",
      "img3.jpg\tpeople building snow tree suitcase\n",
      "img300.jpg\tbuilding water fountain\n",
      "img33.jpg\tpeople trees water\n",
      "img37.jpg\tyellow leaves\n",
      "img39.jpg\ttrees\n",
      "img41.jpg\ttraffic sign crosswalk\n",
      "img42.jpg\ttrees\n",
      "img43.jpg\tpeople buildings\n",
      "img48.jpg\tpeople building road cars cloudy traffic\n",
      "img49.jpg\tpeople flowers\n",
      "img5.jpg\tpeople snow winter tree worker plane cone\n",
      "img57.jpg\tsnow sunny\n",
      "img59.jpg\tpeople building traffic signs red bus\n",
      "img69.jpg\tpeople trees town hall of tartu drone photography tents\n",
      "img71.jpg\tpeople\n",
      "img73.jpg\tpeople performing child\n",
      "img75.jpg\tpeople performing\n",
      "img79.jpg\ttrees\n",
      "img8.jpg\ttrees\n",
      "img81.jpg\ttrees\n",
      "img84.jpg\tflowers wedding hands\n",
      "img90.jpg\tpeople person\n",
      "img93.jpg\thands\n",
      "img94.jpg\ttrees\n"
     ]
    }
   ],
   "source": [
    "testdf = pd.read_csv('test.csv')\n",
    "testlabels = []\n",
    "labelsdf = pd.read_csv('labels.csv')\n",
    "for img_id in testdf.image_id:\n",
    "    try:\n",
    "        inputs = feature_extractor([random_clip_forest.open_img_id(img_id)], return_tensors=\"pt\")\n",
    "        with torch.no_grad():\n",
    "            x = model(**inputs)\n",
    "        prediction = final.predict(x['logits'])\n",
    "        predicted_labels = random_clip_forest.labelstring(prediction.astype(bool))\n",
    "\n",
    "        if len(predicted_labels) == 0:\n",
    "            testlabels.append('l1')\n",
    "        else:\n",
    "            testlabels.append(predicted_labels)\n",
    "        print(img_id,\n",
    "                ' '.join(labelsdf.loc[labelsdf.label_id.isin(testlabels[-1].split(' ')), 'object'].values.ravel()),\n",
    "                sep='\\t')\n",
    "    except FileNotFoundError:\n",
    "        print(img_id, 'missing, defaulting to l0')\n",
    "        testlabels.append('l0')"
   ]
  },
  {
   "cell_type": "code",
   "execution_count": 43,
   "metadata": {},
   "outputs": [],
   "source": [
    "testdf['labels'] = testlabels\n",
    "testdf.to_csv('kea_submissions/beit_xgb1.csv', index=False)"
   ]
  }
 ],
 "metadata": {
  "kernelspec": {
   "display_name": "Python 3.10.4 ('atm_2022')",
   "language": "python",
   "name": "python3"
  },
  "language_info": {
   "codemirror_mode": {
    "name": "ipython",
    "version": 3
   },
   "file_extension": ".py",
   "mimetype": "text/x-python",
   "name": "python",
   "nbconvert_exporter": "python",
   "pygments_lexer": "ipython3",
   "version": "3.10.4"
  },
  "orig_nbformat": 4,
  "vscode": {
   "interpreter": {
    "hash": "7f182084b941899f81698fb3b740c7166625a3245e0fe4789d0140e51bdb253f"
   }
  }
 },
 "nbformat": 4,
 "nbformat_minor": 2
}
