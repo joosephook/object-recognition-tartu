{
 "cells": [
  {
   "cell_type": "code",
   "execution_count": null,
   "metadata": {},
   "outputs": [],
   "source": [
    "def define_model_dropout(dropout_rate = 0):\n",
    "  model = Sequential()\n",
    "  model.add(Conv2D(32, (3,3), padding='same', input_shape=(300, 300, 4)))\n",
    "  model.add(Activation('relu'))\n",
    "  model.add(Conv2D(32, (3,3), padding='same'))\n",
    "  model.add(Activation('relu'))\n",
    "  model.add(MaxPooling2D(pool_size=(2,2)))\n",
    "  model.add(Dropout(dropout_rate))\n",
    "\n",
    "  model.add(Conv2D(64, (3,3), padding='same'))\n",
    "  model.add(Activation('relu'))\n",
    "  model.add(Conv2D(64, (3,3), padding='same'))\n",
    "  model.add(Activation('relu'))\n",
    "  model.add(MaxPooling2D(pool_size=(2,2)))\n",
    "  model.add(Dropout(dropout_rate))\n",
    "\n",
    "  model.add(Conv2D(128, (3,3), padding='same'))\n",
    "  model.add(Activation('relu'))\n",
    "  model.add(Conv2D(128, (3,3), padding='same'))\n",
    "  model.add(Activation('relu'))\n",
    "  model.add(MaxPooling2D(pool_size=(2,2)))\n",
    "  model.add(Dropout(dropout_rate))\n",
    "  \n",
    "  model.add(Dense(100, activation='relu'))\n",
    "  model.add(Dropout(dropout_rate))\n",
    "\n",
    "  model.add(Flatten())\n",
    "  model.add(Dense(1, activation='softmax'))\n",
    "  return(model)"
   ]
  },
  {
   "cell_type": "code",
   "execution_count": null,
   "metadata": {},
   "outputs": [],
   "source": [
    "# osaliselt praktikumi ja kodutöö materjalidest\n",
    "\n",
    "from sklearn.model_selection import KFold\n",
    "dropout_rates = [0.5, 0.6, 0.75, 0.85, 0.9, 0.99]\n",
    "\n",
    "val_fold_acc = np.zeros(len(dropout_rates))\n",
    "\n",
    "for i, dropout_rate in enumerate(dropout_rates):\n",
    "  print(f'Validation loss for dropout rate = {dropout_rate}...')\n",
    "\n",
    "  # 4-fold cross validation\n",
    "  kf = KFold(n_splits=4, shuffle=True, random_state=111)\n",
    "\n",
    "  fold_acc = []\n",
    "  for train_index, val_index in kf.split(X_train_norm):\n",
    "\n",
    "    # split data into train_X, train_y and val_X, val_y depending on the fold:\n",
    "    train_X = X_train_norm[train_index]\n",
    "    y_train = np.array(y_train)\n",
    "    train_Y = y_train[train_index]\n",
    "    val_X = X_train_norm[val_index]\n",
    "    val_Y = y_train[val_index]\n",
    "\n",
    "    # train the neural network with dropout_rate\n",
    "    model = define_model_dropout(dropout_rate)\n",
    "\n",
    "    # compile the model\n",
    "    model.compile(loss=tf.keras.losses.BinaryCrossentropy(),\n",
    "                      metrics=[tf.keras.metrics.BinaryAccuracy(),\n",
    "                      tf.keras.metrics.FalseNegatives()], \n",
    "                      optimizer=optimizers.Adam(learning_rate=0.001))\n",
    "\n",
    "    # fit the neural network on training data\n",
    "    history = model.fit(np.array(train_X), np.array(train_Y), batch_size=10, epochs=15)\n",
    "\n",
    "    # calculate accuracy for this fold and store it in fold_acc\n",
    "    print(model.evaluate(val_X, val_Y))\n",
    "    #acc, loss = model.evaluate(val_X, val_Y)\n",
    "    #fold_acc.append(acc)\n",
    "    \n",
    "\n",
    "  #print(f'Average validation accuracy for {dropout_rate} is {np.mean(fold_acc)}')\n",
    "  #val_fold_acc[i] = np.mean(fold_acc)"
   ]
  }
 ],
 "metadata": {
  "kernelspec": {
   "display_name": "Python 3.10.4 ('atm_2022')",
   "language": "python",
   "name": "python3"
  },
  "language_info": {
   "name": "python",
   "version": "3.10.4"
  },
  "orig_nbformat": 4,
  "vscode": {
   "interpreter": {
    "hash": "7f182084b941899f81698fb3b740c7166625a3245e0fe4789d0140e51bdb253f"
   }
  }
 },
 "nbformat": 4,
 "nbformat_minor": 2
}
